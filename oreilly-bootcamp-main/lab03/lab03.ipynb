{
 "cells": [
  {
   "cell_type": "code",
   "execution_count": null,
   "metadata": {},
   "outputs": [],
   "source": [
    "import numpy as np\n",
    "import matplotlib.pyplot as plt\n",
    "import seaborn as sns\n",
    "\n",
    "import pandas as pd\n",
    "import plotly\n",
    "import plotly.graph_objects as go\n",
    "import plotly.express as px"
   ]
  },
  {
   "cell_type": "code",
   "execution_count": null,
   "metadata": {
    "tags": [
     "hide-input"
    ]
   },
   "outputs": [],
   "source": [
    "# This option stops scientific notation for pandas\n",
    "pd.set_option('display.float_format', '{:.2f}'.format)"
   ]
  },
  {
   "cell_type": "markdown",
   "metadata": {},
   "source": [
    "# Example: Sale Prices for Houses"
   ]
  },
  {
   "cell_type": "markdown",
   "metadata": {},
   "source": [
    "Let's carry out an exploratory analysis with a focus on visualization. \n",
    "\n",
    "Although EDA typically begins in the data\n",
    "wrangling stage, for demonstration purposes the data we work with here\n",
    "have already been cleaned so that we can focus on visualization."
   ]
  },
  {
   "cell_type": "markdown",
   "metadata": {},
   "source": [
    "**Scope** Our data were scraped from the San Francisco Chronicle (SFChron) Website[^SFChron].\n",
    "They form a complete list of homes sold in the area from Apr 2003 to December 2008.  \n",
    "Since we have no plans to generalize our findings beyond the time period and the location, we are working with a census so in terms of scope: the population matches the access frame and the sample consists of the entire population."
   ]
  },
  {
   "cell_type": "markdown",
   "metadata": {},
   "source": [
    "**Granularity** As for granularity, each record represents a sale of a home in the SF Bay Area\n",
    "during the specified time period.  This means that if a home was sold\n",
    "twice during this time, then there are two records in the table. And, if a\n",
    "home in the Bay Area was not up for sale during this time, then it does not appear in the dataset."
   ]
  },
  {
   "cell_type": "markdown",
   "metadata": {},
   "source": [
    "We read the data into the data frame `sfh`."
   ]
  },
  {
   "cell_type": "code",
   "execution_count": null,
   "metadata": {
    "tags": [
     "remove-cell"
    ]
   },
   "outputs": [],
   "source": [
    "def data(csv):\n",
    "    return f'https://github.com/DS-100/oreilly-bootcamp/blob/main/data/{csv}?raw=true'\n",
    "\n",
    "sfh_path = data('sfh_2004_EB.csv')\n",
    "sfh = pd.read_csv(sfh_path)\n",
    "sfh"
   ]
  },
  {
   "cell_type": "markdown",
   "metadata": {},
   "source": [
    "The dataset does not have an accompanying codebook, but we\n",
    "can determine the features and their storage types by inspection."
   ]
  },
  {
   "cell_type": "code",
   "execution_count": null,
   "metadata": {},
   "outputs": [],
   "source": [
    "sfh.info()"
   ]
  },
  {
   "cell_type": "markdown",
   "metadata": {},
   "source": [
    "Based on the names of the fields, we expect the primary key to consist of some\n",
    "combination of city, zip, street address, and date.\n",
    "\n",
    "Sale price is our focus. So let's begin by exploring the distribution of sale price.\n",
    "To develop your intuition about distributions, make a guess about the shape of the distribution\n",
    "before you start reading the next section. Don't worry about the range of prices, just sketch the general shape."
   ]
  },
  {
   "cell_type": "markdown",
   "metadata": {},
   "source": [
    "## Understanding Price"
   ]
  },
  {
   "cell_type": "markdown",
   "metadata": {},
   "source": [
    "It seems like a good guess is that the distribution of sale price is a highly skewed to the right with a few very expensive houses. \n",
    "\n",
    "Let's create a histogram of sale price."
   ]
  },
  {
   "cell_type": "code",
   "execution_count": null,
   "metadata": {},
   "outputs": [],
   "source": [
    "px.histogram(sfh, x='price', nbins=50)"
   ]
  },
  {
   "cell_type": "markdown",
   "metadata": {},
   "source": [
    "**Describe the Shape**\n",
    "\n",
    "+ Modes\n",
    "+ Skew\n",
    "+ Tails\n",
    "+ Gaps and Outliers"
   ]
  },
  {
   "cell_type": "code",
   "execution_count": null,
   "metadata": {},
   "outputs": [],
   "source": [
    "percs = [95, 97, 98, 99, 99.5, 99.9]\n",
    "prices = np.percentile(sfh['price'], percs, interpolation='lower')\n",
    "pd.DataFrame({'price': prices}, index=percs)"
   ]
  },
  {
   "cell_type": "markdown",
   "metadata": {},
   "source": [
    "We see that 99.9\\% of the houses sold for under \\$2M. In fact, in the original dataset, some of the sale prices are as high as `$20M`. Since this was such a rarity, and we are interested in the more typical sale prices, we dropped records with sale price over \\$4M.\n",
    "Also, we might also choose to limit our analysis to sale prices under `\\$4m` since the super-expensive houses may behave quite differently.\n",
    "\n",
    "This subset  still contains large and expensive houses, but not outrageously so."
   ]
  },
  {
   "cell_type": "markdown",
   "metadata": {},
   "source": [
    "Even without the top 0.1%, the distribution remains highly skewed to the right, with a single mode around \\$500k.\n",
    "Let's plot the histogram of the log-transformed sale price. The logarithm transformation often does a good job at converting a right-skewed distribution into one that is more symmetric. "
   ]
  },
  {
   "cell_type": "code",
   "execution_count": null,
   "metadata": {},
   "outputs": [],
   "source": [
    "px.histogram(sfh, x='log_price', nbins=50)"
   ]
  },
  {
   "cell_type": "markdown",
   "metadata": {},
   "source": [
    "We see that the distribution of log-transformed sale price is roughly symmetric. \n",
    "Now that we have an understanding of the distribution of sale price, let's\n",
    "consider the so-what questions posed in the previous section on EDA guidelines."
   ]
  },
  {
   "cell_type": "markdown",
   "metadata": {},
   "source": [
    "## Why use the log transformation?\n",
    "\n",
    "\n",
    "+ Shape matters because models and statistics based on symmetric distributions tend to have more robust and stable properties than highly skewed distributions. For this reason, we primarily work with the log-transformed sale price.\n",
    "\n",
    "+ Also, it's easier to see the left side of the distribution with the log-transformed values. It would be hard to see small secondary modes or gaps without this transformation. "
   ]
  },
  {
   "cell_type": "markdown",
   "metadata": {},
   "source": [
    "## What about temporality?\n",
    "\n",
    "The housing market rose rapidly during this time and then the bottom fell out of the market. \n",
    "So the distribution of sale price in, say, 2004, might be quite different\n",
    "than in 2008, right before the crash. To explore this notion further, we can examine\n",
    "the behavior of prices over time. \n",
    "\n",
    "Alternatively, we can fix time, and examine the\n",
    "relationships between price and the other features of interest. \n",
    "Both approaches are potentially worthwhile."
   ]
  },
  {
   "cell_type": "markdown",
   "metadata": {},
   "source": [
    "We narrow our focus to one year. We have reduced the data to sales made in 2004, so rising prices should have a limited impact on the distributions and relationships that we examine. "
   ]
  },
  {
   "cell_type": "markdown",
   "metadata": {},
   "source": [
    "## Examining other features\n",
    "\n",
    "In addition to the sale price, which is our main focus, a few other features that might be important to our investigation are the size of the house, lot (or property)\n",
    "size, and number of bedrooms. We explore the distributions of these features\n",
    "and their relationship to sale price and to each other.\n",
    "\n",
    "**Make a guess about the shape of the distribution of the building size.**"
   ]
  },
  {
   "cell_type": "markdown",
   "metadata": {},
   "source": [
    "Since the size of the property is likely related to its price, it seems\n",
    "reasonable to guess that these features are also skewed to the right."
   ]
  },
  {
   "cell_type": "code",
   "execution_count": null,
   "metadata": {},
   "outputs": [],
   "source": [
    "px.histogram(sfh, x='bsqft', histnorm='percent', nbins=60)"
   ]
  },
  {
   "cell_type": "code",
   "execution_count": null,
   "metadata": {},
   "outputs": [],
   "source": [
    "px.histogram(sfh, x='log_bsqft', histnorm='percent', nbins=60)"
   ]
  },
  {
   "cell_type": "markdown",
   "metadata": {},
   "source": [
    "The distribution is unimodal with a peak at about 1500 ft^2, and\n",
    "many houses are over 2,500 ft^2 in size. \n",
    "We have confirmed our intuition: the log-transformed building size is\n",
    "nearly symmetric, although it maintains a slight skew to the right. The same is the case for\n",
    "the distribution of lot size. "
   ]
  },
  {
   "cell_type": "markdown",
   "metadata": {},
   "source": [
    "## Relationship between building and lot size\n",
    "\n",
    "**What do you think it might look like?**"
   ]
  },
  {
   "cell_type": "markdown",
   "metadata": {},
   "source": [
    "Given both house and lot size have skewed distributions, a scatter plot of the two should most likely be on log scale too. We compare the scatter plot with and without the log-transformation below. "
   ]
  },
  {
   "cell_type": "code",
   "execution_count": null,
   "metadata": {},
   "outputs": [],
   "source": [
    "px.scatter(sfh, x='bsqft', y='lsqft')"
   ]
  },
  {
   "cell_type": "code",
   "execution_count": null,
   "metadata": {},
   "outputs": [],
   "source": [
    "px.scatter(sfh, x='log_bsqft', y='log_lsqft',\n",
    "          width=500, height=400)"
   ]
  },
  {
   "cell_type": "markdown",
   "metadata": {},
   "source": [
    "The scatter plot in the original\n",
    "units is very difficult to read because most of the points are crowded into the bottom of the plotting region. \n",
    "\n",
    "On the other hand, the scatter plot on the right reveals a few interesting features:\n",
    "\n",
    "+ There is a horizontal line along the bottom of the scatter plot where it appears that many houses have the same lot size no matter the building size;\n",
    "+ There are a collection of houses with very large lots, which we should look into;\n",
    "+ There possibly a slight positive linear association between lot and building size (on log-log scale).\n",
    "\n",
    "\n",
    "Let's look at some lower quantiles of lot size to try and figure out the unusual small value for the lot size."
   ]
  },
  {
   "cell_type": "code",
   "execution_count": null,
   "metadata": {},
   "outputs": [],
   "source": [
    "percs = [0.5, 1, 1.5, 2, 2.5, 3]\n",
    "lots = np.percentile(sfh['lsqft'].dropna(), percs, interpolation='lower')\n",
    "pd.DataFrame({'lot_size': lots}, index=percs)"
   ]
  },
  {
   "cell_type": "markdown",
   "metadata": {},
   "source": [
    "We found something interesting! About 2.5% of the houses have a lot size of 436\n",
    "ft^2. This is tiny and makes little sense so we make a note of the anomaly for further investigation."
   ]
  },
  {
   "cell_type": "markdown",
   "metadata": {},
   "source": [
    "## Distribution of Number of Bedrooms \n",
    "\n",
    "Another measure of house size is the number of bedrooms.\n",
    "\n",
    "**What do you think it might look like?**"
   ]
  },
  {
   "cell_type": "markdown",
   "metadata": {},
   "source": [
    "Houses in the Bay Area tend to be on the smaller side so we venture to guess\n",
    "that the distribution will have a peak at three and skewed to the right with a\n",
    "few houses having 5 or 6 bedrooms.\n",
    "\n",
    "Since the number of bedrooms is a discrete quantitative variable, we can treat it as a qualitative feature and make a bar plot."
   ]
  },
  {
   "cell_type": "code",
   "execution_count": null,
   "metadata": {},
   "outputs": [],
   "source": [
    "br_cat = sfh.groupby(by=[\"br\"]).size().reset_index(name=\"counts\")\n",
    "px.bar(br_cat, x=\"br\", y=\"counts\", width=550, height=400)"
   ]
  },
  {
   "cell_type": "markdown",
   "metadata": {},
   "source": [
    "The bar plot confirms that we generally had the right idea. However, we find that there are some houses with over 30 bedrooms! That's a bit hard to believe and points to another possible data quality problem. Since the records include the addresses of the houses, we can double check theses values on a real estate app. \n",
    "\n",
    "In the meantime, let's just transform the number of bedrooms into an ordinal feature by\n",
    "reassigning all values larger than 8 to 8+. Then we recreate the bar plot with the\n",
    "transformed data. "
   ]
  },
  {
   "cell_type": "code",
   "execution_count": null,
   "metadata": {},
   "outputs": [],
   "source": [
    "#eight_up = sfh.loc[sfh['br'] >= 8, 'br'].unique()\n",
    "#sfh['new_br'] = sfh['br'].replace(eight_up, 8)\n",
    "\n",
    "br_cat = sfh.groupby(by='new_br').size().reset_index(name=\"counts\")\n",
    "px.bar(br_cat, x=\"new_br\", y=\"counts\", width=450, height=450)"
   ]
  },
  {
   "cell_type": "markdown",
   "metadata": {},
   "source": [
    "We can see that even lumping all of the houses with 8+ bedrooms together, they do not amount to many. The distribution is nearly symmetric with a peak at 3, nearly the same proportion of houses have\n",
    "2 or 4 bedrooms, and nearly the same have 1 or 5. There is asymmetry present\n",
    "with a few houses having 6 or more bedrooms."
   ]
  },
  {
   "cell_type": "markdown",
   "metadata": {},
   "source": [
    "Now, we examine the relationship between the number of bedrooms and sale price and between building size and sale price."
   ]
  },
  {
   "cell_type": "markdown",
   "metadata": {},
   "source": [
    "## Delving Deeper into Relationships with Price\n",
    "\n",
    "Let's begin by examining how the distribution of price changes for houses with\n",
    "different numbers of bedrooms. We can do this with box plots."
   ]
  },
  {
   "cell_type": "code",
   "execution_count": null,
   "metadata": {},
   "outputs": [],
   "source": [
    "px.box(sfh, x='new_br', y='price', log_y=True,\n",
    "      width=600, height=450)"
   ]
  },
  {
   "cell_type": "markdown",
   "metadata": {},
   "source": [
    "The median sale price increases with the number of bedrooms from 1\n",
    "to 5 bedrooms, but for the largest houses (those with 6, 7, and 8+ bedrooms),\n",
    "the distribution of log-transformed sale price appears nearly the same.\n",
    "\n",
    "\n",
    "### Price per square-foot\n",
    "\n",
    "We would expect that houses with one bedroom are smaller than houses with, say,\n",
    "4 bedrooms. We might also guess that houses with 6 or more bedrooms are similar\n",
    "in size. \n",
    "\n",
    "Let's consider a transformation that divides price by \n",
    "building size to give us the price per square foot. \n",
    "\n",
    "$$ \\frac{\\text{price}} {\\text{building size (ft}^2)} $$\n",
    "\n",
    "Do you think that this feature is constant for all houses? In other words, price\n",
    "is primarily determined by size. \n",
    "\n",
    "Let's first look at how price per square foot relates to the number of bedrooms.\n"
   ]
  },
  {
   "cell_type": "code",
   "execution_count": null,
   "metadata": {},
   "outputs": [],
   "source": [
    "px.box(sfh, x='new_br', y='ppsf', log_y=True,\n",
    "       width=600, height=450)"
   ]
  },
  {
   "cell_type": "markdown",
   "metadata": {},
   "source": [
    "As we might expect the price per square foot decreases with the number of bedrooms. The smallest houses are the most expensive per square foot. This observation coincides with the notion of the cost to enter the market. \n",
    "\n",
    "### Price and Size\n",
    "\n",
    "Next let's look at the relationship between price and the size of the house. \n",
    "Below we added a smooth curve to the scatter plot that shows the average price for houses of the same (or similar) size. \n",
    "\n",
    "**What does the trend lime tell you about the relationship between price and building size?**"
   ]
  },
  {
   "cell_type": "code",
   "execution_count": null,
   "metadata": {},
   "outputs": [],
   "source": [
    "px.scatter(sfh, x='log_bsqft', y='log_price', \n",
    "           trendline=\"lowess\", trendline_options=dict(frac=0.05),\n",
    "           trendline_color_override=\"black\",\n",
    "          width=600, height=500)"
   ]
  },
  {
   "cell_type": "markdown",
   "metadata": {},
   "source": [
    "Some observations:\n",
    "\n",
    "+ larger houses cost more - not a big surprise\n",
    "+ the relationship is roughly linear on a log-log scale\n",
    "+ there's a minimum price to enter into the market "
   ]
  },
  {
   "cell_type": "markdown",
   "metadata": {},
   "source": [
    "## Location, Location, Location!\n",
    "\n",
    "You may have heard the expression:\n",
    "There are three things that matter in real estate: *location, location, location.*\n",
    "Comparing price across cities might bring additional insights to our investigation.\n",
    "\n",
    "So far we haven't considered the relationship between prices and location. There are house\n",
    "sales from over 150 different cities in the original dataset. Some cities have a\n",
    "handful of sales and others have thousands. We have narrowed down the data\n",
    "to a few cities in the SF East Bay: Richmond, El Cerrito, Albany,\n",
    "Berkeley, Walnut Creek, Lamorinda (which is a combination of Lafayette, Moraga,\n",
    "and Orinda, three neighboring bedroom communities), and Piedmont."
   ]
  },
  {
   "cell_type": "markdown",
   "metadata": {},
   "source": [
    "The city feature is a nominal feature. How do we examine the relationship between a quantitative feature like price and a nominal feature, like city?  "
   ]
  },
  {
   "cell_type": "code",
   "execution_count": null,
   "metadata": {},
   "outputs": [],
   "source": [
    "cities = ['Richmond', 'El Cerrito', 'Albany', 'Berkeley',\n",
    "          'Walnut Creek', 'Lamorinda', 'Piedmont']\n",
    "\n",
    "px.box(sfh.query('city in @cities'),\n",
    "        x='city', y='price', log_y=True,\n",
    "       width=600, height=450)"
   ]
  },
  {
   "cell_type": "markdown",
   "metadata": {},
   "source": [
    "The box plots show that Lamorinda and Piedmont tend to have more expensive homes and Richmond has the least\n",
    "expensive, but there is overlap in sale price for many cities."
   ]
  },
  {
   "cell_type": "markdown",
   "metadata": {},
   "source": [
    "## Three Features\n",
    "\n",
    "We can examine the relationship between price per square foot and house size and compare this relationship across the four of these cities."
   ]
  },
  {
   "cell_type": "code",
   "execution_count": null,
   "metadata": {},
   "outputs": [],
   "source": [
    "four_cities = ['Berkeley', 'Lamorinda', 'Piedmont', 'Richmond']\n",
    "fig = px.scatter(sfh.query('city in @four_cities'),\n",
    "           x='bsqft', y='ppsf', facet_col='city', facet_col_wrap=2,\n",
    "           trendline='lowess', trendline_color_override=\"black\"\n",
    "           )\n",
    "fig.show()"
   ]
  },
  {
   "cell_type": "markdown",
   "metadata": {},
   "source": [
    "The relationship between price-per-square-foot and building size is nearly flat for two of the cities (Piedmont and Lamorinda). \n",
    "The other two cities show the market entry dip we saw earlier.\n",
    "\n",
    "We also see that a house in Berkeley costs about \\$100 more per\n",
    "square foot than a house in Richmond, regardless of size. And Piedmont and Lamorinda are more expensive cities with houses costing about \\$500 psf. \n",
    "\n",
    "These plots support the location-location-location saying."
   ]
  },
  {
   "cell_type": "markdown",
   "metadata": {},
   "source": [
    "In EDA, we often revisit earlier plots to check whether new findings add\n",
    "insights to previous visualization. It is important to continually take stock of our findings and use them to guide us in further explorations. Let's summarize our findings so far. "
   ]
  },
  {
   "cell_type": "markdown",
   "metadata": {},
   "source": [
    "## EDA discoveries\n",
    "\n",
    "Our EDA has uncovered several interesting phenomenon. Briefly, some of the\n",
    "most notable are:\n",
    "\n",
    "- Sale price and building size are highly skewed to the right with one mode. A log-transformation gives a more symmetric distribution, but there's still some skew. \n",
    "- Price per square foot decreases nonlinearly with building size, with smaller\n",
    "  houses costing more per square foot than larger houses, and the price per\n",
    "  square foot being roughly constant for houses with three or more bedrooms.\n",
    "- More desirable locations add a bump in sale price that is roughly the same\n",
    "  size for houses of different sizes."
   ]
  },
  {
   "cell_type": "markdown",
   "metadata": {},
   "source": [
    "There are many additional explorations we can (and should) perform, and there are several checks that we should make. These include: investigating the 436 value for lot size and crosschecking unusual houses,\n",
    "like the 30 bedroom house and the $20m house, with online real estate apps.\n",
    "\n",
    "We narrowed our investigation down to one year, a few cities, and sale prices under \\$4m. This narrowing helped us control for features that might interfere with finding simpler relationships. For example, since the data were collected over several years, the date of sale may confound the relationship between sale price and number of bedrooms. At other times, we want to consider the effect of time on prices."
   ]
  }
 ],
 "metadata": {
  "celltoolbar": "Tags",
  "kernelspec": {
   "display_name": "Python 3 (ipykernel)",
   "language": "python",
   "name": "python3"
  },
  "language_info": {
   "codemirror_mode": {
    "name": "ipython",
    "version": 3
   },
   "file_extension": ".py",
   "mimetype": "text/x-python",
   "name": "python",
   "nbconvert_exporter": "python",
   "pygments_lexer": "ipython3",
   "version": "3.8.5"
  }
 },
 "nbformat": 4,
 "nbformat_minor": 4
}
