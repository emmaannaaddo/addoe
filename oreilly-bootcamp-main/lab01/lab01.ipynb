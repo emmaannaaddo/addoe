{
 "cells": [
  {
   "cell_type": "code",
   "execution_count": 1,
   "metadata": {
    "slideshow": {
     "slide_type": "skip"
    },
    "tags": [
     "remove-cell"
    ]
   },
   "outputs": [],
   "source": [
    "# This code sets up display options, imports, etc.\n",
    "!pip install matplotlib_inline\n",
    "import numpy as np\n",
    "import matplotlib.pyplot as plt\n",
    "import pandas as pd\n",
    "import seaborn as sns\n",
    "from matplotlib_inline.backend_inline import set_matplotlib_formats\n",
    "\n",
    "import plotly.express as px\n",
    "import plotly.io as pio\n",
    "\n",
    "# set up plotting defaults\n",
    "%matplotlib inline\n",
    "set_matplotlib_formats(\"svg\")\n",
    "sns.set_style(\"whitegrid\")\n",
    "plt.rcParams[\"figure.figsize\"] = (4, 3)\n",
    "pio.templates.default = \"simple_white\"\n",
    "\n",
    "# display options for numpy and pandas\n",
    "np.set_printoptions(threshold=20, precision=2, suppress=True)\n",
    "pd.set_option(\"display.max_rows\", 7)\n",
    "pd.set_option(\"display.max_columns\", 8)\n",
    "pd.set_option(\"display.precision\", 2)"
   ]
  },
  {
   "cell_type": "markdown",
   "metadata": {
    "slideshow": {
     "slide_type": "slide"
    }
   },
   "source": [
    "# Lab 1: Pandas and Data Cleaning\n",
    "\n",
    "**Data Science Bootcamp with Python, Pandas, and Plotly**\n",
    "\n",
    "May 9, 2023"
   ]
  },
  {
   "cell_type": "markdown",
   "metadata": {},
   "source": [
    "## Working with data tables in `pandas`"
   ]
  },
  {
   "cell_type": "markdown",
   "metadata": {},
   "source": [
    "First, let's go over how to take notes."
   ]
  },
  {
   "cell_type": "code",
   "execution_count": null,
   "metadata": {},
   "outputs": [],
   "source": [
    "# This is a code cell"
   ]
  },
  {
   "cell_type": "markdown",
   "metadata": {
    "id": "YTnHKY9O_kzd"
   },
   "source": [
    "### Subsetting and Filtering: NBA Salaries"
   ]
  },
  {
   "cell_type": "code",
   "execution_count": 6,
   "metadata": {
    "id": "XeKxBjPj_kze"
   },
   "outputs": [],
   "source": [
    "import pandas as pd\n",
    "import numpy as np"
   ]
  },
  {
   "cell_type": "markdown",
   "metadata": {
    "id": "zEpkhKhs_kze"
   },
   "source": [
    "Let's load in salaries for NBA players in the '21-'22 season."
   ]
  },
  {
   "cell_type": "code",
   "execution_count": 7,
   "metadata": {
    "colab": {
     "base_uri": "https://localhost:8080/",
     "height": 58
    },
    "id": "qvcVGfNH_kzf",
    "outputId": "c75d7b62-7d46-41e5-fbd6-d87c1c076c1f"
   },
   "outputs": [],
   "source": [
    "def data(csv):\n",
    "    return f'https://github.com/DS-100/textbook/blob/master/content/datasets/{csv}?raw=true'\n",
    "\n",
    "data('nba-2022.csv')"
   ]
  },
  {
   "cell_type": "code",
   "execution_count": 8,
   "metadata": {
    "colab": {
     "base_uri": "https://localhost:8080/",
     "height": 341
    },
    "id": "4SuxONYA_kzf",
    "outputId": "45ebd285-6295-4093-ed7d-45fc6a8f5150",
    "scrolled": false
   },
   "outputs": [],
   "source": [
    "nba = pd.read_csv(data('nba-2022.csv'))\n",
    "nba = nba.set_index('Player')\n",
    "nba"
   ]
  },
  {
   "cell_type": "markdown",
   "metadata": {
    "id": "_-6_ZEjf_kzg"
   },
   "source": [
    "### What questions can we answer with this data?"
   ]
  },
  {
   "cell_type": "markdown",
   "metadata": {},
   "source": [
    "Fill this cell in with your questions"
   ]
  },
  {
   "cell_type": "markdown",
   "metadata": {},
   "source": [
    "### Subsetting"
   ]
  },
  {
   "cell_type": "code",
   "execution_count": null,
   "metadata": {},
   "outputs": [],
   "source": []
  },
  {
   "cell_type": "markdown",
   "metadata": {
    "id": "DVUU6oOkKss9"
   },
   "source": [
    "### Filtering"
   ]
  },
  {
   "cell_type": "code",
   "execution_count": null,
   "metadata": {},
   "outputs": [],
   "source": []
  },
  {
   "cell_type": "markdown",
   "metadata": {
    "id": "fBSg5qS9_kzh"
   },
   "source": [
    "### Aggregating: Dog Breed Data"
   ]
  },
  {
   "cell_type": "markdown",
   "metadata": {
    "id": "7HmRaviA_kzi"
   },
   "source": [
    "Fill this cell in with your questions."
   ]
  },
  {
   "cell_type": "code",
   "execution_count": 24,
   "metadata": {
    "colab": {
     "base_uri": "https://localhost:8080/",
     "height": 311
    },
    "id": "_0A6NcQJ_kzj",
    "outputId": "3b6e0cef-4198-4058-e61b-1c1b6ec64bb3"
   },
   "outputs": [],
   "source": [
    "dogs = pd.read_csv(data('dogs43.csv'))\n",
    "dogs"
   ]
  },
  {
   "cell_type": "markdown",
   "metadata": {
    "id": "zqLWN1OW_kzk"
   },
   "source": [
    "### Putting it all Together: Baby Names\n",
    "\n",
    "#### Lilith, Lilibet … Lucifer? How Baby Names Went to ‘L’\n",
    "\n",
    "https://archive.is/NpORG"
   ]
  },
  {
   "cell_type": "markdown",
   "metadata": {
    "id": "lOy4CCM2_kzl"
   },
   "source": [
    "### What are the claims made in the article?"
   ]
  },
  {
   "cell_type": "markdown",
   "metadata": {},
   "source": [
    "Fill in this cell with your answers."
   ]
  },
  {
   "cell_type": "code",
   "execution_count": 29,
   "metadata": {
    "colab": {
     "base_uri": "https://localhost:8080/",
     "height": 311
    },
    "id": "tCqjfvQx_kzm",
    "outputId": "baa52c9b-9741-49a0-d62f-36ed484641f6"
   },
   "outputs": [],
   "source": [
    "baby = pd.read_csv(data('babynames.csv'))\n",
    "baby"
   ]
  },
  {
   "cell_type": "code",
   "execution_count": 30,
   "metadata": {
    "colab": {
     "base_uri": "https://localhost:8080/",
     "height": 311
    },
    "id": "KhkWdsyx_kzo",
    "outputId": "22ee9321-d783-4d07-fc86-dc25aa92a547"
   },
   "outputs": [],
   "source": [
    "nyt = pd.read_csv(data('nyt_names.csv'))\n",
    "nyt"
   ]
  },
  {
   "cell_type": "markdown",
   "metadata": {
    "id": "ANz_K8Ta_kzp"
   },
   "source": [
    "### Recap: Data table manipulation"
   ]
  },
  {
   "cell_type": "markdown",
   "metadata": {},
   "source": [
    "Fill in this cell with your notes."
   ]
  },
  {
   "cell_type": "markdown",
   "metadata": {},
   "source": [
    "## Data Cleaning"
   ]
  },
  {
   "cell_type": "markdown",
   "metadata": {},
   "source": [
    "### CO2 Measurements on Mauna Loa\n",
    "\n",
    "www.esrl.noaa.gov/gmd/ccgg/trends/"
   ]
  },
  {
   "cell_type": "code",
   "execution_count": 36,
   "metadata": {},
   "outputs": [],
   "source": [
    "!wget --output-document \"co2_mm_mlo.txt\" \"https://github.com/DS-100/textbook/blob/master/content/datasets/co2_mm_mlo.txt?raw=true\" 2> /dev/null"
   ]
  },
  {
   "cell_type": "code",
   "execution_count": 37,
   "metadata": {},
   "outputs": [],
   "source": [
    "!head co2_mm_mlo.txt"
   ]
  },
  {
   "cell_type": "code",
   "execution_count": 38,
   "metadata": {},
   "outputs": [],
   "source": [
    "from pathlib import Path\n",
    "\n",
    "lines = Path('co2_mm_mlo.txt').read_text().split('\\n')\n",
    "len(lines)"
   ]
  },
  {
   "cell_type": "code",
   "execution_count": 39,
   "metadata": {},
   "outputs": [],
   "source": [
    "lines[:6]"
   ]
  },
  {
   "cell_type": "code",
   "execution_count": 40,
   "metadata": {},
   "outputs": [],
   "source": [
    "lines[69:79]"
   ]
  },
  {
   "cell_type": "code",
   "execution_count": 41,
   "metadata": {},
   "outputs": [],
   "source": [
    "..."
   ]
  },
  {
   "cell_type": "markdown",
   "metadata": {},
   "source": [
    "### Missing Data"
   ]
  },
  {
   "cell_type": "code",
   "execution_count": 42,
   "metadata": {},
   "outputs": [],
   "source": [
    "..."
   ]
  },
  {
   "cell_type": "code",
   "execution_count": 43,
   "metadata": {},
   "outputs": [],
   "source": [
    "..."
   ]
  },
  {
   "cell_type": "markdown",
   "metadata": {},
   "source": [
    "### You Try:\n",
    "\n",
    "Get all the recordings with missing CO2 data (where the Avg column is less than 0)"
   ]
  },
  {
   "cell_type": "code",
   "execution_count": 44,
   "metadata": {},
   "outputs": [],
   "source": [
    "..."
   ]
  },
  {
   "cell_type": "code",
   "execution_count": 45,
   "metadata": {},
   "outputs": [],
   "source": [
    "# Don't worry about understanding this code for now, just look at the plots\n",
    "from plotly.subplots import make_subplots\n",
    "import plotly.graph_objects as go\n",
    "\n",
    "fig = make_subplots(rows=1, cols=3,\n",
    "    subplot_titles=(\"Missing Dropped\", \n",
    "                    \"Missing Set to NaN\", \"Missing Interpolated\"))\n",
    "\n",
    "co2_small = (co2[co2['Avg'] > 0])[:8] \n",
    "\n",
    "fig.add_trace(\n",
    "    go.Scatter(x=co2_small['Mo'], y=co2_small['Avg'], \n",
    "               mode='lines+markers'),\n",
    "    row=1, col=1)\n",
    "\n",
    "co2_na = (co2.replace(-99.99, np.NaN))[:10]\n",
    "\n",
    "fig.add_trace(\n",
    "    go.Scatter(x=co2_na['Mo'], y=co2_na['Avg'], mode='lines+markers'),\n",
    "    row=1, col=2)\n",
    "\n",
    "fig.add_trace(\n",
    "    go.Scatter(x=co2_na['Mo'], y=co2_na['Int'], mode='lines+markers'),\n",
    "    row=1, col=3)\n",
    "\n",
    "fig.update_xaxes(tickvals = np.arange(3, 13, 1), row=1, col=1)\n",
    "fig.update_xaxes(tickvals = np.arange(3, 13, 1), row=1, col=2)\n",
    "fig.update_xaxes(tickvals = np.arange(3, 13, 1), row=1, col=3)\n",
    "\n",
    "fig.update_layout(height=350, margin=dict(t=30, b=0), showlegend=False)\n",
    "\n",
    "fig.show()"
   ]
  },
  {
   "cell_type": "markdown",
   "metadata": {},
   "source": [
    "### Granularity"
   ]
  },
  {
   "cell_type": "code",
   "execution_count": 46,
   "metadata": {},
   "outputs": [],
   "source": [
    "co2"
   ]
  },
  {
   "cell_type": "markdown",
   "metadata": {},
   "source": [
    "#### You Try:\n",
    "\n",
    "Find the average CO2 for each year, then plot the CO2 vs. year"
   ]
  },
  {
   "cell_type": "code",
   "execution_count": 47,
   "metadata": {},
   "outputs": [],
   "source": [
    "..."
   ]
  },
  {
   "cell_type": "code",
   "execution_count": 48,
   "metadata": {},
   "outputs": [],
   "source": [
    "fig = ...\n",
    "fig.update_layout(showlegend=False)\n",
    "fig"
   ]
  },
  {
   "cell_type": "markdown",
   "metadata": {},
   "source": [
    "### Data Cleaning Principles"
   ]
  },
  {
   "cell_type": "markdown",
   "metadata": {},
   "source": [
    "Fill in this cell with your notes."
   ]
  },
  {
   "cell_type": "markdown",
   "metadata": {},
   "source": [
    "## Case Study: Restaurant Safety Violations"
   ]
  },
  {
   "cell_type": "markdown",
   "metadata": {},
   "source": [
    "https://data.sfgov.org/Health-and-Social-Services/Restaurant-Scores-LIVES-Standard/pyih-qa8i"
   ]
  },
  {
   "cell_type": "code",
   "execution_count": 50,
   "metadata": {},
   "outputs": [],
   "source": [
    "# businesses\n",
    "bus = pd.read_csv(data('SF_Restaurant_Inspections/businesses.csv'), encoding='ISO-8859-1')\n",
    "\n",
    "# inspections\n",
    "insp = pd.read_csv(data('SF_Restaurant_Inspections/inspections.csv'))\n",
    "\n",
    "# violations\n",
    "viol = pd.read_csv(data('SF_Restaurant_Inspections/violations.csv'))"
   ]
  },
  {
   "cell_type": "code",
   "execution_count": 51,
   "metadata": {},
   "outputs": [],
   "source": [
    "bus"
   ]
  },
  {
   "cell_type": "markdown",
   "metadata": {},
   "source": [
    "### Check Data Quality"
   ]
  },
  {
   "cell_type": "markdown",
   "metadata": {},
   "source": [
    "#### You Try:\n",
    "\n",
    "Write Python code to explore the `'postal_code'` column in `bus`. Find at least two issues."
   ]
  },
  {
   "cell_type": "code",
   "execution_count": 52,
   "metadata": {},
   "outputs": [],
   "source": [
    "..."
   ]
  },
  {
   "cell_type": "code",
   "execution_count": 53,
   "metadata": {},
   "outputs": [],
   "source": [
    "..."
   ]
  },
  {
   "cell_type": "code",
   "execution_count": 54,
   "metadata": {},
   "outputs": [],
   "source": [
    "..."
   ]
  },
  {
   "cell_type": "code",
   "execution_count": 55,
   "metadata": {},
   "outputs": [],
   "source": [
    "..."
   ]
  },
  {
   "cell_type": "markdown",
   "metadata": {},
   "source": [
    "### Look for Missing Data"
   ]
  },
  {
   "cell_type": "markdown",
   "metadata": {},
   "source": [
    "#### You Try:\n",
    "\n",
    "How many rows in `bus` have missing values for `'postal_code'`?"
   ]
  },
  {
   "cell_type": "code",
   "execution_count": 56,
   "metadata": {},
   "outputs": [],
   "source": [
    "..."
   ]
  },
  {
   "cell_type": "markdown",
   "metadata": {},
   "source": [
    "### Transform Data"
   ]
  },
  {
   "cell_type": "code",
   "execution_count": 57,
   "metadata": {},
   "outputs": [],
   "source": [
    "insp "
   ]
  },
  {
   "cell_type": "markdown",
   "metadata": {},
   "source": [
    "https://docs.python.org/3/library/datetime.html#strftime-and-strptime-format-codes"
   ]
  },
  {
   "cell_type": "code",
   "execution_count": 58,
   "metadata": {},
   "outputs": [],
   "source": [
    "dates = ...\n",
    "dates"
   ]
  },
  {
   "cell_type": "code",
   "execution_count": 59,
   "metadata": {},
   "outputs": [],
   "source": [
    "def parse_dates_and_years(df):\n",
    "    dates = pd.to_datetime(df['date'], format='%Y%m%d')\n",
    "    years = dates.dt.year\n",
    "    return df.assign(timestamp=dates, year=years)\n",
    "\n",
    "def subset_2016(df):\n",
    "    return df.query('year == 2016')\n",
    "\n",
    "# inspections\n",
    "ins2016 = (insp\n",
    "           .pipe(parse_dates_and_years)\n",
    "           .pipe(subset_2016))\n",
    "\n",
    "# violations\n",
    "vio2016 = (viol\n",
    "           .pipe(parse_dates_and_years)\n",
    "           .pipe(subset_2016))"
   ]
  },
  {
   "cell_type": "markdown",
   "metadata": {},
   "source": [
    "#### You Try:\n",
    "\n",
    "Use `vio2016` to create a dataframe called `num_vios` that has one row per inspection. It should have three columns:\n",
    "\n",
    "- `business_id`: The business ID.\n",
    "- `timestamp`: The date of the inspection.\n",
    "- `num_vio`: The total number of violations the inspection recorded on that date.\n",
    "\n",
    "The resulting dataframe should have 4806 rows."
   ]
  },
  {
   "cell_type": "code",
   "execution_count": 60,
   "metadata": {},
   "outputs": [],
   "source": [
    "..."
   ]
  },
  {
   "cell_type": "code",
   "execution_count": 61,
   "metadata": {},
   "outputs": [],
   "source": [
    "ins_and_num_vios = ins2016.merge(num_vios, on=['business_id', 'timestamp'], how='left') \n",
    "ins_and_num_vios"
   ]
  },
  {
   "cell_type": "code",
   "execution_count": 62,
   "metadata": {},
   "outputs": [],
   "source": [
    "ins_and_num_vios['num_vio'].isnull().sum() "
   ]
  },
  {
   "cell_type": "code",
   "execution_count": 63,
   "metadata": {},
   "outputs": [],
   "source": [
    "px.box(ins_and_num_vios, x=\"num_vio\", y=\"score\") "
   ]
  },
  {
   "cell_type": "markdown",
   "metadata": {},
   "source": [
    "### Do certain kinds of violations impact safety score more than others?"
   ]
  },
  {
   "cell_type": "code",
   "execution_count": 64,
   "metadata": {},
   "outputs": [],
   "source": [
    "vio2016['description'].value_counts().head(15).to_frame() "
   ]
  },
  {
   "cell_type": "code",
   "execution_count": 65,
   "metadata": {},
   "outputs": [],
   "source": [
    "from IPython.display import display\n",
    "with pd.option_context(\"display.max_rows\", 15):\n",
    "    display(vio2016['description'].value_counts().head(15).to_frame())"
   ]
  },
  {
   "cell_type": "code",
   "execution_count": 66,
   "metadata": {},
   "outputs": [],
   "source": [
    "def make_vio_categories(vio):\n",
    "    def has(term):\n",
    "        return vio['description'].str.contains(term)\n",
    "\n",
    "    return vio[['business_id', 'timestamp']].assign(\n",
    "        high_risk        = has(r\"high risk\"),\n",
    "        clean            = has(r\"clean|sanit\"),\n",
    "        food_surface     = (has(r\"surface\") & has(r\"\\Wfood\")),\n",
    "        vermin           = has(r\"vermin\"),\n",
    "        storage          = has(r\"thaw|cool|therm|storage\"),\n",
    "        permit           = has(r\"certif|permit\"),\n",
    "        non_food_surface = has(r\"wall|ceiling|floor|surface\"),\n",
    "        human            = has(r\"hand|glove|hair|nail\"),\n",
    "    )"
   ]
  },
  {
   "cell_type": "code",
   "execution_count": 67,
   "metadata": {},
   "outputs": [],
   "source": [
    "# The violations with the new categories.\n",
    "# `vio_ctg` is short for `violation categories`.\n",
    "vio_ctg = vio2016.pipe(make_vio_categories) \n",
    "vio_ctg"
   ]
  },
  {
   "cell_type": "code",
   "execution_count": 68,
   "metadata": {},
   "outputs": [],
   "source": [
    "# Need to change granularity\n",
    "vio_counts = vio_ctg.groupby(['business_id', 'timestamp']).sum().reset_index() \n",
    "vio_counts"
   ]
  },
  {
   "cell_type": "code",
   "execution_count": 69,
   "metadata": {},
   "outputs": [],
   "source": [
    "feature_names = ['high_risk', 'clean', 'food_surface', 'vermin',\n",
    "                 'storage', 'permit', 'non_food_surface', 'human']\n",
    "\n",
    "def left_join_features(ins):\n",
    "    return (ins[['business_id', 'timestamp', 'score']]\n",
    "            .merge(vio_counts, on=['business_id', 'timestamp'], how='left'))\n",
    "\n",
    "def zero_features_for_perfect_scores(ins):\n",
    "    ins = ins.copy()\n",
    "    ins.loc[ins['score'] == 100, feature_names] = 0\n",
    "    return ins"
   ]
  },
  {
   "cell_type": "code",
   "execution_count": 70,
   "metadata": {},
   "outputs": [],
   "source": [
    "ins_and_vios = (ins2016.pipe(left_join_features)\n",
    "                .pipe(zero_features_for_perfect_scores))\n",
    "ins_and_vios.head(3)"
   ]
  },
  {
   "cell_type": "code",
   "execution_count": 71,
   "metadata": {},
   "outputs": [],
   "source": [
    "..."
   ]
  },
  {
   "cell_type": "code",
   "execution_count": 72,
   "metadata": {
    "scrolled": false
   },
   "outputs": [],
   "source": [
    "..."
   ]
  }
 ],
 "metadata": {
  "kernelspec": {
   "display_name": "Python 3 (ipykernel)",
   "language": "python",
   "name": "python3"
  },
  "language_info": {
   "codemirror_mode": {
    "name": "ipython",
    "version": 3
   },
   "file_extension": ".py",
   "mimetype": "text/x-python",
   "name": "python",
   "nbconvert_exporter": "python",
   "pygments_lexer": "ipython3",
   "version": "3.8.5"
  }
 },
 "nbformat": 4,
 "nbformat_minor": 4
}
